{
 "cells": [
  {
   "cell_type": "markdown",
   "metadata": {},
   "source": [
    "The code in this file has the purpose of generating graphs from csv files.\n",
    "Originallly made for tensorboard. "
   ]
  },
  {
   "cell_type": "code",
   "execution_count": 218,
   "metadata": {},
   "outputs": [],
   "source": [
    "import pandas as pd\n",
    "import os\n",
    "from os import listdir\n",
    "from os.path import isfile, join\n",
    "import matplotlib.pyplot as plt\n",
    "from utils import parse_file_name\n",
    "import numpy as np"
   ]
  },
  {
   "cell_type": "code",
   "execution_count": 219,
   "metadata": {},
   "outputs": [
    {
     "name": "stdout",
     "output_type": "stream",
     "text": [
      "\n",
      "Loading: /home/tiago/Dropbox/research/multiview_segmentation/etc/results/weighted_feature_loss/hparams_table.csv\n"
     ]
    }
   ],
   "source": [
    "root = '/home/tiago/Dropbox/research/multiview_segmentation/etc/results'\n",
    "target_dir = 'weighted_feature_loss'\n",
    "target_file = 'hparams_table.csv'\n",
    "\n",
    "out_path = os.path.join(root,target_dir)\n",
    "\n",
    "path_target_file = os.path.join(root,target_dir,target_file)\n",
    "\n",
    "\n",
    "if not os.path.isfile(path_target_file):\n",
    "    raise NameError\n",
    "\n",
    "print('\\nLoading: ' + path_target_file)"
   ]
  },
  {
   "cell_type": "code",
   "execution_count": 220,
   "metadata": {},
   "outputs": [
    {
     "data": {
      "image/png": "[encoded data removed]",
      "text/plain": [
       "<Figure size 432x288 with 1 Axes>"
      ]
     },
     "metadata": {
      "needs_background": "light"
     },
     "output_type": "display_data"
    }
   ],
   "source": [
    "LINE_WIDTH = 6\n",
    "MAX_POINT_SIZE = 20\n",
    "LINE_MARKER_SIZE = 12 \n",
    "AXIS_LABEL_SIZE = 15\n",
    "AXIS_TICK_SIZE = 15\n",
    "TITLE_SIZE = 15\n",
    "\n",
    "max_values = []\n",
    "min_values = []\n",
    "\n",
    "xx_name = 'alpha'\n",
    "yy_name = 'mDice'\n",
    "\n",
    "plot_name = 'MultiSegNet'\n",
    "title = 'GreenAI'\n",
    "\n",
    "# Import CSV \n",
    "df = pd.read_csv(path_target_file)\n",
    "\n",
    "plot_name = plot_name +'/'+ df['fusion'][0]\n",
    "i_max = np.argmax(df[yy_name])\n",
    "value_max = df[yy_name][i_max]\n",
    "\n",
    "label = plot_name + f' (max Dice {round(value_max,3)})'\n",
    "\n",
    "# Line \n",
    "ax = df.plot(x = xx_name,y=yy_name,\n",
    "            label      = label,\n",
    "            linewidth  = LINE_WIDTH,\n",
    "            marker     = 'o',\n",
    "            markersize = LINE_MARKER_SIZE\n",
    "            )\n",
    "# Highlight Max Value\n",
    "ax.scatter(x=df[xx_name][i_max],y=df[yy_name][i_max],\n",
    "            s =  (MAX_POINT_SIZE)**2,\n",
    "            c ='r',\n",
    "            alpha=1)\n",
    "\n",
    "ax.set_xlabel(xx_name,fontsize=AXIS_LABEL_SIZE)\n",
    "ax.set_ylabel(yy_name,fontsize=AXIS_LABEL_SIZE)\n",
    "ax.set_title(title,fontsize=TITLE_SIZE)\n",
    "ax.set_ylim(0,1)\n",
    "ax.yaxis.set_tick_params(labelsize=AXIS_TICK_SIZE)\n",
    "ax.xaxis.set_tick_params(labelsize=AXIS_TICK_SIZE)\n",
    "\n",
    "plt.savefig(join(out_path,title) + '.pdf')\n",
    "plt.savefig(join(out_path,title) + '.png')\n",
    "\n",
    "\n"
   ]
  }
 ],
 "metadata": {
  "interpreter": {
   "hash": "31f2aee4e71d21fbe5cf8b01ff0e069b9275f58929596ceb00d14d90e3e16cd6"
  },
  "kernelspec": {
   "display_name": "Python 3.8.10 64-bit",
   "language": "python",
   "name": "python3"
  },
  "language_info": {
   "codemirror_mode": {
    "name": "ipython",
    "version": 3
   },
   "file_extension": ".py",
   "mimetype": "text/x-python",
   "name": "python",
   "nbconvert_exporter": "python",
   "pygments_lexer": "ipython3",
   "version": "3.8.10"
  },
  "orig_nbformat": 4
 },
 "nbformat": 4,
 "nbformat_minor": 2
}
