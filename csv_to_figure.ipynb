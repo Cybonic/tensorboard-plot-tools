{
 "cells": [
  {
   "cell_type": "markdown",
   "metadata": {},
   "source": [
    "The code in this file has the purpose of generating graphs from csv files.\n",
    "Originallly made for tensorboard. "
   ]
  },
  {
   "cell_type": "code",
   "execution_count": 23,
   "metadata": {},
   "outputs": [],
   "source": [
    "import pandas as pd\n",
    "import os\n",
    "from os import listdir\n",
    "from os.path import isfile, join\n",
    "import matplotlib.pyplot as plt\n",
    "from utils import parse_file_name"
   ]
  },
  {
   "cell_type": "code",
   "execution_count": 24,
   "metadata": {},
   "outputs": [],
   "source": [
    "mypath = 'loss_mask'\n",
    "output_file = 'out'\n",
    "\n",
    "if not os.path.isdir(mypath):\n",
    "    raise NameError\n",
    "    \n",
    "onlyfiles = [join(mypath,f) for f in listdir(mypath) if isfile(join(mypath, f))]\n",
    "\n",
    "onlyfiles = [file for file in onlyfiles if file.split('.')[-1] == 'csv']"
   ]
  },
  {
   "cell_type": "code",
   "execution_count": 26,
   "metadata": {},
   "outputs": [
    {
     "name": "stdout",
     "output_type": "stream",
     "text": [
      "Concat: max value: 0.5600183606147766\n",
      "ADD: max value: 0.5538907051086426\n"
     ]
    },
    {
     "data": {
      "image/png": "[encoded data removed]",
      "text/plain": [
       "<Figure size 432x288 with 1 Axes>"
      ]
     },
     "metadata": {
      "needs_background": "light"
     },
     "output_type": "display_data"
    }
   ],
   "source": [
    "df = pd.DataFrame()\n",
    "max_values = []\n",
    "min_values = []\n",
    "for i,file_name in enumerate(onlyfiles):\n",
    "    #print(file_name\n",
    "    names = parse_file_name(file_name)\n",
    "    df2 = pd.read_csv(file_name)\n",
    "\n",
    "    if i == 0:\n",
    "        df.insert(i,'Step',df2['Step'],True)\n",
    "    \n",
    "    df.insert(i+1,names['plot_name'],df2['Value'],True)\n",
    "    \n",
    "    # Terminal Info\n",
    "    max_values.append(max(df2['Value']))\n",
    "    min_values.append(min(df2['Value']))\n",
    "    value  = max(df2['Value'])\n",
    "    name = names['plot_name']\n",
    "    \n",
    "    print(f'{name}: max value: {value}')\n",
    "\n",
    "\n",
    "ax = df.plot(x = 'Step')\n",
    "ax.set_xlabel(\"Epochs\")\n",
    "ax.set_ylabel(names['metric'])\n",
    "ax.set_ylim(0,1)\n",
    "\n",
    "plt.savefig(join(mypath,names['title']) + '.pdf')\n",
    "plt.savefig(join(mypath,names['title']) + '.png')\n"
   ]
  }
 ],
 "metadata": {
  "interpreter": {
   "hash": "31f2aee4e71d21fbe5cf8b01ff0e069b9275f58929596ceb00d14d90e3e16cd6"
  },
  "kernelspec": {
   "display_name": "Python 3.8.10 64-bit",
   "language": "python",
   "name": "python3"
  },
  "language_info": {
   "codemirror_mode": {
    "name": "ipython",
    "version": 3
   },
   "file_extension": ".py",
   "mimetype": "text/x-python",
   "name": "python",
   "nbconvert_exporter": "python",
   "pygments_lexer": "ipython3",
   "version": "3.8.10"
  },
  "orig_nbformat": 4
 },
 "nbformat": 4,
 "nbformat_minor": 2
}
