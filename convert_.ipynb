{
 "cells": [
  {
   "cell_type": "markdown",
   "metadata": {},
   "source": [
    "The code in this file has the purpose of generating graphs from csv files.\n",
    "Originallly made for tensorboard. "
   ]
  },
  {
   "cell_type": "code",
   "execution_count": 19,
   "metadata": {},
   "outputs": [],
   "source": [
    "import pandas as pd\n",
    "import os\n",
    "from os import listdir\n",
    "from os.path import isfile, join\n",
    "import matplotlib.pyplot as plt\n",
    "from utils import parse_id\n",
    "import numpy as np\n"
   ]
  },
  {
   "cell_type": "code",
   "execution_count": 20,
   "metadata": {},
   "outputs": [
    {
     "name": "stdout",
     "output_type": "stream",
     "text": [
      "\n",
      "Loading: /home/tiago/Dropbox/research/multiview_segmentation/etc/results/weighted_channel_loss/crossval-valdoeiro.csv\n",
      "\n",
      "Loading: /home/tiago/Dropbox/research/multiview_segmentation/etc/results/weighted_channel_loss/crossval-esac.csv\n",
      "\n",
      "Loading: /home/tiago/Dropbox/research/multiview_segmentation/etc/results/weighted_channel_loss/crossval-qbaixo.csv\n"
     ]
    }
   ],
   "source": [
    "root = '/home/tiago/Dropbox/research/multiview_segmentation/etc/results'\n",
    "target_dir = 'weighted_channel_loss'\n",
    "#target_file = 'weighted-channel-loss_greenai_70-30.csv'\n",
    "target_files = ['crossval-valdoeiro.csv','crossval-esac.csv','crossval-qbaixo.csv']\n",
    "\n",
    "out_path = os.path.join(root,target_dir)\n",
    "\n",
    "full_target_files = []\n",
    "\n",
    "for target_file in target_files:\n",
    "    path_target_file = os.path.join(root,target_dir,target_file)\n",
    "\n",
    "    if not os.path.isfile(path_target_file):\n",
    "        raise NameError\n",
    "\n",
    "    print('\\nLoading: ' + path_target_file)\n",
    "    \n",
    "    full_target_files.append(path_target_file)"
   ]
  },
  {
   "cell_type": "code",
   "execution_count": 21,
   "metadata": {},
   "outputs": [],
   "source": [
    "def find_tag(array,tag):\n",
    "    vector = []\n",
    "    for i,line in enumerate(array):\n",
    "        if tag in line:\n",
    "            vector.append(i)\n",
    "    return(vector)"
   ]
  },
  {
   "cell_type": "code",
   "execution_count": 22,
   "metadata": {},
   "outputs": [
    {
     "name": "stdout",
     "output_type": "stream",
     "text": [
      "1    0.600926\n",
      "3    0.630877\n",
      "5    0.640387\n",
      "7    0.657912\n",
      "9    0.554901\n",
      "Name: mDice, dtype: float64\n",
      "1    0.655448\n",
      "3    0.602016\n",
      "5    0.518066\n",
      "Name: mDice, dtype: float64\n",
      "1    0.667893\n",
      "3    0.824747\n",
      "5    0.777302\n",
      "7    0.672608\n",
      "9    0.797740\n",
      "Name: mDice, dtype: float64\n"
     ]
    }
   ],
   "source": [
    "\n",
    "xx_name = 'feat_layers'\n",
    "yy_name = 'mDice'\n",
    "plot_name = 'MultiViewSegNet'\n",
    "yy_values = []\n",
    "xx_values = []\n",
    "\n",
    "for target_file in full_target_files:\n",
    "    df = pd.read_csv(target_file)\n",
    "\n",
    "    names = df['model'].to_numpy()\n",
    "    #name_splits = parse_id(names)\n",
    "    idx = find_tag(names,plot_name)\n",
    "\n",
    "    # plot_name = plot_name +'/'+ 'ElemProd'\n",
    "    # ElemProd\n",
    "\n",
    "    ddf = df.loc[idx]\n",
    "    print(ddf[yy_name])\n",
    "\n",
    "    yy = ddf[yy_name].to_numpy()\n",
    "    xx = ddf[xx_name].to_numpy()\n",
    "    #xx_selected_value = df[xx_name][idx]\n",
    "    yy_values.extend(yy)\n",
    "    xx_values.extend(xx)\n",
    "    \n"
   ]
  },
  {
   "cell_type": "code",
   "execution_count": 23,
   "metadata": {},
   "outputs": [
    {
     "name": "stdout",
     "output_type": "stream",
     "text": [
      "[0]\n",
      "[1]\n",
      "[2]\n",
      "[3]\n",
      "[4]\n"
     ]
    }
   ],
   "source": [
    "\n",
    "un_values = np.unique(xx_values)\n",
    "y_value_man = []\n",
    "y_value_std = []\n",
    "for un_value in un_values:\n",
    "\n",
    "    idx = find_tag(xx_values,un_value)    \n",
    "    # idx = [ for i in enumerate(xx_values) un_values)\n",
    "\n",
    "    print(un_value)\n",
    "    \n",
    "    x_value = un_value\n",
    "    y_value = np.array(yy_values)[idx]\n",
    "\n",
    "    y_value_man = np.append(y_value_man,np.mean(y_value))\n",
    "    y_value_std = np.append(y_value_std,np.std(y_value))\n",
    "    #print(f'mean {y_value_man} std {y_value_std}')\n"
   ]
  },
  {
   "cell_type": "code",
   "execution_count": 24,
   "metadata": {},
   "outputs": [
    {
     "name": "stdout",
     "output_type": "stream",
     "text": [
      "['[0]' '[1]' '[2]' '[3]' '[4]']\n",
      "[0.63440952 0.72781193 0.69104542 0.64417859 0.62356903]\n",
      "[0.03348342 0.0969348  0.06130145 0.03041131 0.12407233]\n"
     ]
    },
    {
     "data": {
      "image/png": "[encoded data removed]",
      "text/plain": [
       "<Figure size 432x288 with 1 Axes>"
      ]
     },
     "metadata": {
      "needs_background": "light"
     },
     "output_type": "display_data"
    }
   ],
   "source": [
    "LINE_WIDTH = 4\n",
    "\n",
    "print(un_values)\n",
    "print(y_value_man)\n",
    "print(y_value_std)\n",
    "\n",
    "plt.plot(y_value_man,linewidth  = LINE_WIDTH)\n",
    "plt.fill_between(range(len(un_values)),y_value_man-y_value_std,y_value_man+y_value_std,alpha=.1)\n",
    "plt.ylim(0,1)\n",
    "plt.xticks(range(len(un_values)),un_values)\n",
    "\n",
    "plt.savefig(join(out_path,plot_name) + '.pdf')\n",
    "plt.savefig(join(out_path,plot_name) + '.png')\n",
    "\n"
   ]
  },
  {
   "cell_type": "code",
   "execution_count": 25,
   "metadata": {},
   "outputs": [
    {
     "name": "stdout",
     "output_type": "stream",
     "text": [
      "0    0.648171\n",
      "2    0.742380\n",
      "4    0.647296\n",
      "6    0.689137\n",
      "8    0.625437\n",
      "Name: mDice, dtype: float64\n",
      "MultiSegNet/ElemProd (max Dice 0.742)\n"
     ]
    },
    {
     "data": {
      "image/png": "[encoded data removed]",
      "text/plain": [
       "<Figure size 432x288 with 1 Axes>"
      ]
     },
     "metadata": {
      "needs_background": "light"
     },
     "output_type": "display_data"
    }
   ],
   "source": [
    "LINE_WIDTH = 6\n",
    "MAX_POINT_SIZE = 20\n",
    "LINE_MARKER_SIZE = 12 \n",
    "AXIS_LABEL_SIZE = 15\n",
    "AXIS_TICK_SIZE = 15\n",
    "TITLE_SIZE = 15\n",
    "\n",
    "max_values = []\n",
    "min_values = []\n",
    "\n",
    "xx_name = 'feat_layers'\n",
    "yy_name = 'mDice'\n",
    "\n",
    "plot_name = 'MultiSegNet'\n",
    "title = 'GreenAI'\n",
    "\n",
    "fig, ax = plt.subplots()\n",
    "# Import CSV \n",
    "df = pd.read_csv(path_target_file)\n",
    "\n",
    "for plot in ['MultiSegNet']:\n",
    "    names = df['model']\n",
    "    #name_splits = parse_id(names)\n",
    "    idx = find_tag(names,plot)\n",
    "    #plot_name = plot_name +'/'+ df['fusion'][0]\n",
    "    plot_name = plot +'/'+ 'ElemProd'\n",
    "    # ElemProd\n",
    "\n",
    "    ddf = df.loc[idx]\n",
    "    print(ddf[yy_name])\n",
    "    #xx_selected_value = df[xx_name][idx]\n",
    "    yy_values = ddf[yy_name].to_numpy()\n",
    "    xx_values = ddf[xx_name].to_numpy()\n",
    "    i_max = np.argmax(yy_values)\n",
    "    max_value_yy = yy_values[i_max]\n",
    "    max_value_xx = xx_values[i_max]\n",
    "    \n",
    "    #max_value_xx = ddf[xx_name].loc[i_max]\n",
    "\n",
    "    label = plot_name + f' (max Dice {round(max_value_yy,3)})'\n",
    "    print(label)\n",
    "\n",
    "# Line \n",
    "    ax = ddf.plot(x=xx_name,y=yy_name,\n",
    "            label      = label,\n",
    "            linewidth  = LINE_WIDTH,\n",
    "            marker     = 'o',\n",
    "            markersize = LINE_MARKER_SIZE,\n",
    "            ax = ax\n",
    "            )\n",
    "  \n",
    "# Highlight Max Value\n",
    "    ax.scatter(x=max_value_xx,y=max_value_yy,\n",
    "            s =  (MAX_POINT_SIZE)**2,\n",
    "            c ='r',\n",
    "            alpha=1)\n",
    "\n",
    "plt.xlabel(xx_name,fontsize=AXIS_LABEL_SIZE)\n",
    "plt.ylabel(yy_name,fontsize=AXIS_LABEL_SIZE)\n",
    "plt.title(title,fontsize=TITLE_SIZE)\n",
    "plt.ylim(0,1)\n",
    "#plt.legend(['MultiSegNet','','MultiViewSegNet',''])\n",
    "#plt.yaxis.set_tick_params(labelsize=AXIS_TICK_SIZE)\n",
    "#plt.xaxis.set_tick_params(labelsize=AXIS_TICK_SIZE)\n",
    "\n",
    "plt.savefig(join(out_path,title) + '.pdf')\n",
    "plt.savefig(join(out_path,title) + '.png')"
   ]
  },
  {
   "cell_type": "code",
   "execution_count": 26,
   "metadata": {},
   "outputs": [
    {
     "ename": "KeyError",
     "evalue": "'id'",
     "output_type": "error",
     "traceback": [
      "\u001b[0;31m---------------------------------------------------------------------------\u001b[0m",
      "\u001b[0;31mKeyError\u001b[0m                                  Traceback (most recent call last)",
      "File \u001b[0;32m~/.local/lib/python3.8/site-packages/pandas/core/indexes/base.py:3621\u001b[0m, in \u001b[0;36mIndex.get_loc\u001b[0;34m(self, key, method, tolerance)\u001b[0m\n\u001b[1;32m   <a href='file:///home/tiago/.local/lib/python3.8/site-packages/pandas/core/indexes/base.py?line=3619'>3620</a>\u001b[0m \u001b[39mtry\u001b[39;00m:\n\u001b[0;32m-> <a href='file:///home/tiago/.local/lib/python3.8/site-packages/pandas/core/indexes/base.py?line=3620'>3621</a>\u001b[0m     \u001b[39mreturn\u001b[39;00m \u001b[39mself\u001b[39;49m\u001b[39m.\u001b[39;49m_engine\u001b[39m.\u001b[39;49mget_loc(casted_key)\n\u001b[1;32m   <a href='file:///home/tiago/.local/lib/python3.8/site-packages/pandas/core/indexes/base.py?line=3621'>3622</a>\u001b[0m \u001b[39mexcept\u001b[39;00m \u001b[39mKeyError\u001b[39;00m \u001b[39mas\u001b[39;00m err:\n",
      "File \u001b[0;32m~/.local/lib/python3.8/site-packages/pandas/_libs/index.pyx:136\u001b[0m, in \u001b[0;36mpandas._libs.index.IndexEngine.get_loc\u001b[0;34m()\u001b[0m\n",
      "File \u001b[0;32m~/.local/lib/python3.8/site-packages/pandas/_libs/index.pyx:163\u001b[0m, in \u001b[0;36mpandas._libs.index.IndexEngine.get_loc\u001b[0;34m()\u001b[0m\n",
      "File \u001b[0;32mpandas/_libs/hashtable_class_helper.pxi:5198\u001b[0m, in \u001b[0;36mpandas._libs.hashtable.PyObjectHashTable.get_item\u001b[0;34m()\u001b[0m\n",
      "File \u001b[0;32mpandas/_libs/hashtable_class_helper.pxi:5206\u001b[0m, in \u001b[0;36mpandas._libs.hashtable.PyObjectHashTable.get_item\u001b[0;34m()\u001b[0m\n",
      "\u001b[0;31mKeyError\u001b[0m: 'id'",
      "\nThe above exception was the direct cause of the following exception:\n",
      "\u001b[0;31mKeyError\u001b[0m                                  Traceback (most recent call last)",
      "\u001b[1;32m/home/tiago/mylib/tensorboard_graph_tool/hyper_param_csv_to_figure.ipynb Cell 9'\u001b[0m in \u001b[0;36m<module>\u001b[0;34m\u001b[0m\n\u001b[1;32m     <a href='vscode-notebook-cell:/home/tiago/mylib/tensorboard_graph_tool/hyper_param_csv_to_figure.ipynb#ch0000008?line=20'>21</a>\u001b[0m \u001b[39m# Import CSV \u001b[39;00m\n\u001b[1;32m     <a href='vscode-notebook-cell:/home/tiago/mylib/tensorboard_graph_tool/hyper_param_csv_to_figure.ipynb#ch0000008?line=21'>22</a>\u001b[0m df \u001b[39m=\u001b[39m pd\u001b[39m.\u001b[39mread_csv(path_target_file)\n\u001b[0;32m---> <a href='vscode-notebook-cell:/home/tiago/mylib/tensorboard_graph_tool/hyper_param_csv_to_figure.ipynb#ch0000008?line=22'>23</a>\u001b[0m names \u001b[39m=\u001b[39m df[\u001b[39m'\u001b[39;49m\u001b[39mid\u001b[39;49m\u001b[39m'\u001b[39;49m]\n\u001b[1;32m     <a href='vscode-notebook-cell:/home/tiago/mylib/tensorboard_graph_tool/hyper_param_csv_to_figure.ipynb#ch0000008?line=23'>24</a>\u001b[0m name_splits \u001b[39m=\u001b[39m parse_id(names)\n\u001b[1;32m     <a href='vscode-notebook-cell:/home/tiago/mylib/tensorboard_graph_tool/hyper_param_csv_to_figure.ipynb#ch0000008?line=24'>25</a>\u001b[0m xx_values \u001b[39m=\u001b[39m name_splits[:,\u001b[39m1\u001b[39m]\n",
      "File \u001b[0;32m~/.local/lib/python3.8/site-packages/pandas/core/frame.py:3506\u001b[0m, in \u001b[0;36mDataFrame.__getitem__\u001b[0;34m(self, key)\u001b[0m\n\u001b[1;32m   <a href='file:///home/tiago/.local/lib/python3.8/site-packages/pandas/core/frame.py?line=3503'>3504</a>\u001b[0m \u001b[39mif\u001b[39;00m \u001b[39mself\u001b[39m\u001b[39m.\u001b[39mcolumns\u001b[39m.\u001b[39mnlevels \u001b[39m>\u001b[39m \u001b[39m1\u001b[39m:\n\u001b[1;32m   <a href='file:///home/tiago/.local/lib/python3.8/site-packages/pandas/core/frame.py?line=3504'>3505</a>\u001b[0m     \u001b[39mreturn\u001b[39;00m \u001b[39mself\u001b[39m\u001b[39m.\u001b[39m_getitem_multilevel(key)\n\u001b[0;32m-> <a href='file:///home/tiago/.local/lib/python3.8/site-packages/pandas/core/frame.py?line=3505'>3506</a>\u001b[0m indexer \u001b[39m=\u001b[39m \u001b[39mself\u001b[39;49m\u001b[39m.\u001b[39;49mcolumns\u001b[39m.\u001b[39;49mget_loc(key)\n\u001b[1;32m   <a href='file:///home/tiago/.local/lib/python3.8/site-packages/pandas/core/frame.py?line=3506'>3507</a>\u001b[0m \u001b[39mif\u001b[39;00m is_integer(indexer):\n\u001b[1;32m   <a href='file:///home/tiago/.local/lib/python3.8/site-packages/pandas/core/frame.py?line=3507'>3508</a>\u001b[0m     indexer \u001b[39m=\u001b[39m [indexer]\n",
      "File \u001b[0;32m~/.local/lib/python3.8/site-packages/pandas/core/indexes/base.py:3623\u001b[0m, in \u001b[0;36mIndex.get_loc\u001b[0;34m(self, key, method, tolerance)\u001b[0m\n\u001b[1;32m   <a href='file:///home/tiago/.local/lib/python3.8/site-packages/pandas/core/indexes/base.py?line=3620'>3621</a>\u001b[0m     \u001b[39mreturn\u001b[39;00m \u001b[39mself\u001b[39m\u001b[39m.\u001b[39m_engine\u001b[39m.\u001b[39mget_loc(casted_key)\n\u001b[1;32m   <a href='file:///home/tiago/.local/lib/python3.8/site-packages/pandas/core/indexes/base.py?line=3621'>3622</a>\u001b[0m \u001b[39mexcept\u001b[39;00m \u001b[39mKeyError\u001b[39;00m \u001b[39mas\u001b[39;00m err:\n\u001b[0;32m-> <a href='file:///home/tiago/.local/lib/python3.8/site-packages/pandas/core/indexes/base.py?line=3622'>3623</a>\u001b[0m     \u001b[39mraise\u001b[39;00m \u001b[39mKeyError\u001b[39;00m(key) \u001b[39mfrom\u001b[39;00m \u001b[39merr\u001b[39;00m\n\u001b[1;32m   <a href='file:///home/tiago/.local/lib/python3.8/site-packages/pandas/core/indexes/base.py?line=3623'>3624</a>\u001b[0m \u001b[39mexcept\u001b[39;00m \u001b[39mTypeError\u001b[39;00m:\n\u001b[1;32m   <a href='file:///home/tiago/.local/lib/python3.8/site-packages/pandas/core/indexes/base.py?line=3624'>3625</a>\u001b[0m     \u001b[39m# If we have a listlike key, _check_indexing_error will raise\u001b[39;00m\n\u001b[1;32m   <a href='file:///home/tiago/.local/lib/python3.8/site-packages/pandas/core/indexes/base.py?line=3625'>3626</a>\u001b[0m     \u001b[39m#  InvalidIndexError. Otherwise we fall through and re-raise\u001b[39;00m\n\u001b[1;32m   <a href='file:///home/tiago/.local/lib/python3.8/site-packages/pandas/core/indexes/base.py?line=3626'>3627</a>\u001b[0m     \u001b[39m#  the TypeError.\u001b[39;00m\n\u001b[1;32m   <a href='file:///home/tiago/.local/lib/python3.8/site-packages/pandas/core/indexes/base.py?line=3627'>3628</a>\u001b[0m     \u001b[39mself\u001b[39m\u001b[39m.\u001b[39m_check_indexing_error(key)\n",
      "\u001b[0;31mKeyError\u001b[0m: 'id'"
     ]
    },
    {
     "data": {
      "image/png": "[encoded data removed]",
      "text/plain": [
       "<Figure size 432x288 with 1 Axes>"
      ]
     },
     "metadata": {
      "needs_background": "light"
     },
     "output_type": "display_data"
    }
   ],
   "source": [
    "LINE_WIDTH = 6\n",
    "MAX_POINT_SIZE = 20\n",
    "LINE_MARKER_SIZE = 12 \n",
    "AXIS_LABEL_SIZE = 15\n",
    "AXIS_TICK_SIZE = 15\n",
    "TITLE_SIZE = 15\n",
    "\n",
    "max_values = []\n",
    "min_values = []\n",
    "\n",
    "xx_name = 'layer'\n",
    "yy_name = 'mDice'\n",
    "alpha = '0.3'\n",
    "\n",
    "plot_name = 'MultiSegNet'\n",
    "title = 'GreenAI-' + 'Channel-loss-' + alpha\n",
    "\n",
    "\n",
    "\n",
    "fig, ax = plt.subplots()\n",
    "# Import CSV \n",
    "df = pd.read_csv(path_target_file)\n",
    "names = df['id']\n",
    "name_splits = parse_id(names)\n",
    "xx_values = name_splits[:,1]\n",
    "df.insert(2, xx_name, xx_values, True)\n",
    "modal_values = name_splits[:,3]\n",
    "df.insert(3, 'model', modal_values, True)\n",
    "print(df)\n",
    "idx = find_tag(name_splits,alpha)\n",
    "df = df.loc[idx]\n",
    "\n",
    "for plot in ['MultiSegNet','MultiViewSegNet']:\n",
    "    \n",
    "    \n",
    "    names = df['id']\n",
    "    name_splits = parse_id(names)\n",
    "    # Append new column \n",
    "    #xx_values = name_splits[:,1]\n",
    "    #df.insert(2, xx_name, xx_values, True)\n",
    "    model = df['model'].to_numpy()\n",
    "    print(model)\n",
    "\n",
    "    #idx = df['model'].str.find(plot)\n",
    "    idx = find_tag(model,plot)\n",
    "    \n",
    "\n",
    "    ddf = df.iloc[idx]\n",
    "    print(ddf[yy_name])\n",
    "    #xx_selected_value = df[xx_name][idx]\n",
    "    yy_values = ddf[yy_name].to_numpy()\n",
    "    xx_values = ddf[xx_name].to_numpy()\n",
    "    i_max = np.argmax(yy_values)\n",
    "    max_value_yy = yy_values[i_max]\n",
    "    max_value_xx = xx_values[i_max]\n",
    "    \n",
    "    #max_value_xx = ddf[xx_name].loc[i_max]\n",
    "    plot_name = plot +'/'+ 'ElemProd'\n",
    "    label = plot_name + f' (max Dice {round(max_value_yy,3)})'\n",
    "    print(label)\n",
    "\n",
    "# Line \n",
    "    ax = ddf.plot(x=xx_name,y=yy_name,\n",
    "            label      = label,\n",
    "            linewidth  = LINE_WIDTH,\n",
    "            marker     = 'o',\n",
    "            markersize = LINE_MARKER_SIZE,\n",
    "            ax = ax\n",
    "            )\n",
    "  \n",
    "# Highlight Max Value\n",
    "    ax.scatter(x=max_value_xx,y=max_value_yy,\n",
    "            s =  (MAX_POINT_SIZE)**2,\n",
    "            c ='r',\n",
    "            alpha=1)\n",
    "\n",
    "plt.xlabel(xx_name,fontsize=AXIS_LABEL_SIZE)\n",
    "plt.ylabel(yy_name,fontsize=AXIS_LABEL_SIZE)\n",
    "plt.title(title,fontsize=TITLE_SIZE)\n",
    "plt.ylim(0,1)\n",
    "#plt.legend(['MultiSegNet','','MultiViewSegNet',''])\n",
    "#plt.yaxis.set_tick_params(labelsize=AXIS_TICK_SIZE)\n",
    "#plt.xaxis.set_tick_params(labelsize=AXIS_TICK_SIZE)\n",
    "\n",
    "plt.savefig(join(out_path,title) + '.pdf')\n",
    "plt.savefig(join(out_path,title) + '.png')"
   ]
  }
 ],
 "metadata": {
  "interpreter": {
   "hash": "31f2aee4e71d21fbe5cf8b01ff0e069b9275f58929596ceb00d14d90e3e16cd6"
  },
  "kernelspec": {
   "display_name": "Python 3.8.10 64-bit",
   "language": "python",
   "name": "python3"
  },
  "language_info": {
   "codemirror_mode": {
    "name": "ipython",
    "version": 3
   },
   "file_extension": ".py",
   "mimetype": "text/x-python",
   "name": "python",
   "nbconvert_exporter": "python",
   "pygments_lexer": "ipython3",
   "version": "3.8.10"
  },
  "orig_nbformat": 4
 },
 "nbformat": 4,
 "nbformat_minor": 2
}
